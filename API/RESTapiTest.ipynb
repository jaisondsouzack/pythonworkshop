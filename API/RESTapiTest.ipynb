{
  "nbformat": 4,
  "nbformat_minor": 0,
  "metadata": {
    "colab": {
      "provenance": []
    },
    "kernelspec": {
      "name": "python3",
      "display_name": "Python 3"
    },
    "language_info": {
      "name": "python"
    }
  },
  "cells": [
    {
      "cell_type": "code",
      "execution_count": 3,
      "metadata": {
        "colab": {
          "base_uri": "https://localhost:8080/"
        },
        "id": "hRC2T1nFnvgV",
        "outputId": "15181890-9f5a-4350-af23-e186b2664143"
      },
      "outputs": [
        {
          "output_type": "stream",
          "name": "stdout",
          "text": [
            "what is your name?\n",
            "jsn\n",
            "which country do you stay in?\n",
            "India\n",
            "nice to meet you, jsn ##\n",
            "India is a wonderful country, and the capital New Delhi is awesome\n",
            "Population in the country is 1380004385\n",
            "your rivals nearby are\n",
            "['BGD', 'BTN', 'MMR', 'CHN', 'NPL', 'PAK']\n",
            "Bangladesh\n",
            "Bhutan\n",
            "Myanmar\n",
            "China\n",
            "Nepal\n",
            "Pakistan\n"
          ]
        }
      ],
      "source": [
        "# rest api testing to print all of the countries\n",
        "\n",
        "import requests\n",
        "\n",
        "base_url = 'https://restcountries.com/v3.1/all'\n",
        "\n",
        "resp = requests.get(base_url)\n",
        "\n",
        "data = resp.json()\n",
        "\n",
        "#print(data)\n",
        "#print(type(data))\n",
        "#print(resp.json())\n",
        "\n",
        "print(\"what is your name?\")\n",
        "user_name = input()\n",
        "print(\"which country do you stay in?\")\n",
        "user_country = input()\n",
        "\n",
        "for country in data:\n",
        "    if(country['name']['common'].upper() == user_country.upper()):\n",
        "        print(\"nice to meet you, {} ##\".format(user_name))\n",
        "        print(\"{} is a wonderful country, and the capital {} is awesome\".format(user_country, \"\".join(country['capital'])))\n",
        "        print(\"Population in the country is {}\".format(country['population']))\n",
        "        print(\"your rivals nearby are\")\n",
        "        print(country['borders'])\n",
        "\n",
        "        for padosi in country['borders']:\n",
        "            codde = requests.get('https://restcountries.com/v3.1/alpha/{}'.format(padosi))\n",
        "            crack = codde.json()\n",
        "            for neigh in crack:\n",
        "                print(neigh['name']['common'])\n",
        "#                    print(\"\".join(country['capital']))\n",
        "\n",
        "\n",
        "\n",
        " #print(country['name']['common'],country['capital'])\n",
        "#print(\" \".join(country['capital'])). This will convert the list to a string and remove the square brackets.\n",
        "\n"
      ]
    },
    {
      "cell_type": "code",
      "source": [
        "import requests\n",
        "\n",
        "codde = requests.get('https://restcountries.com/v3.1/alpha/BRN').json()\n",
        "\n",
        "print(type(codde))\n",
        "print(codde[\"fra\"]['official'])"
      ],
      "metadata": {
        "colab": {
          "base_uri": "https://localhost:8080/",
          "height": 226
        },
        "id": "YffWu6qdpoJk",
        "outputId": "de73f187-19ea-42f8-83a2-ffde1f9460f7"
      },
      "execution_count": null,
      "outputs": [
        {
          "output_type": "stream",
          "name": "stdout",
          "text": [
            "<class 'list'>\n"
          ]
        },
        {
          "output_type": "error",
          "ename": "TypeError",
          "evalue": "ignored",
          "traceback": [
            "\u001b[0;31m---------------------------------------------------------------------------\u001b[0m",
            "\u001b[0;31mTypeError\u001b[0m                                 Traceback (most recent call last)",
            "\u001b[0;32m<ipython-input-54-a3cd33b281ea>\u001b[0m in \u001b[0;36m<module>\u001b[0;34m\u001b[0m\n\u001b[1;32m      4\u001b[0m \u001b[0;34m\u001b[0m\u001b[0m\n\u001b[1;32m      5\u001b[0m \u001b[0mprint\u001b[0m\u001b[0;34m(\u001b[0m\u001b[0mtype\u001b[0m\u001b[0;34m(\u001b[0m\u001b[0mcodde\u001b[0m\u001b[0;34m)\u001b[0m\u001b[0;34m)\u001b[0m\u001b[0;34m\u001b[0m\u001b[0;34m\u001b[0m\u001b[0m\n\u001b[0;32m----> 6\u001b[0;31m \u001b[0mprint\u001b[0m\u001b[0;34m(\u001b[0m\u001b[0mcodde\u001b[0m\u001b[0;34m[\u001b[0m\u001b[0;34m\"fra\"\u001b[0m\u001b[0;34m]\u001b[0m\u001b[0;34m[\u001b[0m\u001b[0;34m'official'\u001b[0m\u001b[0;34m]\u001b[0m\u001b[0;34m)\u001b[0m\u001b[0;34m\u001b[0m\u001b[0;34m\u001b[0m\u001b[0m\n\u001b[0m",
            "\u001b[0;31mTypeError\u001b[0m: list indices must be integers or slices, not str"
          ]
        }
      ]
    },
    {
      "cell_type": "code",
      "source": [],
      "metadata": {
        "id": "322fisTfH6Sb"
      },
      "execution_count": null,
      "outputs": []
    }
  ]
}